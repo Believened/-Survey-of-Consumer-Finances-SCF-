{
 "cells": [
  {
   "cell_type": "code",
   "execution_count": 1,
   "id": "9467667d",
   "metadata": {},
   "outputs": [
    {
     "data": {
      "text/plain": [
       "\"In this project, I am going to work with data from the Survey of Consumer Finances (SCF). The SCF is a survey sponsored by the US Federal Reserve. It tracks financial, demographic, and opinion information about families in the United States. The survey is conducted every three years, and I'll work with an extract of the results from 2019.\""
      ]
     },
     "execution_count": 1,
     "metadata": {},
     "output_type": "execute_result"
    }
   ],
   "source": [
    "\"\"\"In this project, I am going to work with data from the Survey of Consumer Finances (SCF). The SCF is a survey sponsored by the US Federal Reserve. It tracks financial, demographic, and opinion information about families in the United States. The survey is conducted every three years, and I'll work with an extract of the results from 2019.\"\"\""
   ]
  },
  {
   "cell_type": "code",
   "execution_count": 2,
   "id": "bdb6e8f9",
   "metadata": {},
   "outputs": [],
   "source": [
    "#importing Libraries\n",
    "import matplotlib.pyplot as plt\n",
    "import pandas as pd\n",
    "import plotly.express as px\n",
    "import seaborn as sns\n",
    "from scipy.stats.mstats import trimmed_var\n",
    "from sklearn.cluster import KMeans\n",
    "from sklearn.decomposition import PCA\n",
    "from sklearn.metrics import silhouette_score\n",
    "from sklearn.pipeline import make_pipeline\n",
    "from sklearn.preprocessing import StandardScaler"
   ]
  },
  {
   "cell_type": "code",
   "execution_count": 3,
   "id": "9b773a91",
   "metadata": {},
   "outputs": [
    {
     "name": "stdout",
     "output_type": "stream",
     "text": [
      "df shape: (28885, 351)\n"
     ]
    },
    {
     "data": {
      "text/html": [
       "<div>\n",
       "<style scoped>\n",
       "    .dataframe tbody tr th:only-of-type {\n",
       "        vertical-align: middle;\n",
       "    }\n",
       "\n",
       "    .dataframe tbody tr th {\n",
       "        vertical-align: top;\n",
       "    }\n",
       "\n",
       "    .dataframe thead th {\n",
       "        text-align: right;\n",
       "    }\n",
       "</style>\n",
       "<table border=\"1\" class=\"dataframe\">\n",
       "  <thead>\n",
       "    <tr style=\"text-align: right;\">\n",
       "      <th></th>\n",
       "      <th>YY1</th>\n",
       "      <th>Y1</th>\n",
       "      <th>WGT</th>\n",
       "      <th>HHSEX</th>\n",
       "      <th>AGE</th>\n",
       "      <th>AGECL</th>\n",
       "      <th>EDUC</th>\n",
       "      <th>EDCL</th>\n",
       "      <th>MARRIED</th>\n",
       "      <th>KIDS</th>\n",
       "      <th>...</th>\n",
       "      <th>NWCAT</th>\n",
       "      <th>INCCAT</th>\n",
       "      <th>ASSETCAT</th>\n",
       "      <th>NINCCAT</th>\n",
       "      <th>NINC2CAT</th>\n",
       "      <th>NWPCTLECAT</th>\n",
       "      <th>INCPCTLECAT</th>\n",
       "      <th>NINCPCTLECAT</th>\n",
       "      <th>INCQRTCAT</th>\n",
       "      <th>NINCQRTCAT</th>\n",
       "    </tr>\n",
       "  </thead>\n",
       "  <tbody>\n",
       "    <tr>\n",
       "      <th>0</th>\n",
       "      <td>1</td>\n",
       "      <td>11</td>\n",
       "      <td>6119.779308</td>\n",
       "      <td>2</td>\n",
       "      <td>75</td>\n",
       "      <td>6</td>\n",
       "      <td>12</td>\n",
       "      <td>4</td>\n",
       "      <td>2</td>\n",
       "      <td>0</td>\n",
       "      <td>...</td>\n",
       "      <td>5</td>\n",
       "      <td>3</td>\n",
       "      <td>6</td>\n",
       "      <td>3</td>\n",
       "      <td>2</td>\n",
       "      <td>10</td>\n",
       "      <td>6</td>\n",
       "      <td>6</td>\n",
       "      <td>3</td>\n",
       "      <td>3</td>\n",
       "    </tr>\n",
       "    <tr>\n",
       "      <th>1</th>\n",
       "      <td>1</td>\n",
       "      <td>12</td>\n",
       "      <td>4712.374912</td>\n",
       "      <td>2</td>\n",
       "      <td>75</td>\n",
       "      <td>6</td>\n",
       "      <td>12</td>\n",
       "      <td>4</td>\n",
       "      <td>2</td>\n",
       "      <td>0</td>\n",
       "      <td>...</td>\n",
       "      <td>5</td>\n",
       "      <td>3</td>\n",
       "      <td>6</td>\n",
       "      <td>3</td>\n",
       "      <td>1</td>\n",
       "      <td>10</td>\n",
       "      <td>5</td>\n",
       "      <td>5</td>\n",
       "      <td>2</td>\n",
       "      <td>2</td>\n",
       "    </tr>\n",
       "    <tr>\n",
       "      <th>2</th>\n",
       "      <td>1</td>\n",
       "      <td>13</td>\n",
       "      <td>5145.224455</td>\n",
       "      <td>2</td>\n",
       "      <td>75</td>\n",
       "      <td>6</td>\n",
       "      <td>12</td>\n",
       "      <td>4</td>\n",
       "      <td>2</td>\n",
       "      <td>0</td>\n",
       "      <td>...</td>\n",
       "      <td>5</td>\n",
       "      <td>3</td>\n",
       "      <td>6</td>\n",
       "      <td>3</td>\n",
       "      <td>1</td>\n",
       "      <td>10</td>\n",
       "      <td>5</td>\n",
       "      <td>5</td>\n",
       "      <td>2</td>\n",
       "      <td>2</td>\n",
       "    </tr>\n",
       "    <tr>\n",
       "      <th>3</th>\n",
       "      <td>1</td>\n",
       "      <td>14</td>\n",
       "      <td>5297.663412</td>\n",
       "      <td>2</td>\n",
       "      <td>75</td>\n",
       "      <td>6</td>\n",
       "      <td>12</td>\n",
       "      <td>4</td>\n",
       "      <td>2</td>\n",
       "      <td>0</td>\n",
       "      <td>...</td>\n",
       "      <td>5</td>\n",
       "      <td>2</td>\n",
       "      <td>6</td>\n",
       "      <td>2</td>\n",
       "      <td>1</td>\n",
       "      <td>10</td>\n",
       "      <td>4</td>\n",
       "      <td>4</td>\n",
       "      <td>2</td>\n",
       "      <td>2</td>\n",
       "    </tr>\n",
       "    <tr>\n",
       "      <th>4</th>\n",
       "      <td>1</td>\n",
       "      <td>15</td>\n",
       "      <td>4761.812371</td>\n",
       "      <td>2</td>\n",
       "      <td>75</td>\n",
       "      <td>6</td>\n",
       "      <td>12</td>\n",
       "      <td>4</td>\n",
       "      <td>2</td>\n",
       "      <td>0</td>\n",
       "      <td>...</td>\n",
       "      <td>5</td>\n",
       "      <td>3</td>\n",
       "      <td>6</td>\n",
       "      <td>3</td>\n",
       "      <td>1</td>\n",
       "      <td>10</td>\n",
       "      <td>5</td>\n",
       "      <td>5</td>\n",
       "      <td>2</td>\n",
       "      <td>2</td>\n",
       "    </tr>\n",
       "  </tbody>\n",
       "</table>\n",
       "<p>5 rows × 351 columns</p>\n",
       "</div>"
      ],
      "text/plain": [
       "   YY1  Y1          WGT  HHSEX  AGE  AGECL  EDUC  EDCL  MARRIED  KIDS  ...  \\\n",
       "0    1  11  6119.779308      2   75      6    12     4        2     0  ...   \n",
       "1    1  12  4712.374912      2   75      6    12     4        2     0  ...   \n",
       "2    1  13  5145.224455      2   75      6    12     4        2     0  ...   \n",
       "3    1  14  5297.663412      2   75      6    12     4        2     0  ...   \n",
       "4    1  15  4761.812371      2   75      6    12     4        2     0  ...   \n",
       "\n",
       "   NWCAT  INCCAT  ASSETCAT  NINCCAT  NINC2CAT  NWPCTLECAT  INCPCTLECAT  \\\n",
       "0      5       3         6        3         2          10            6   \n",
       "1      5       3         6        3         1          10            5   \n",
       "2      5       3         6        3         1          10            5   \n",
       "3      5       2         6        2         1          10            4   \n",
       "4      5       3         6        3         1          10            5   \n",
       "\n",
       "   NINCPCTLECAT  INCQRTCAT  NINCQRTCAT  \n",
       "0             6          3           3  \n",
       "1             5          2           2  \n",
       "2             5          2           2  \n",
       "3             4          2           2  \n",
       "4             5          2           2  \n",
       "\n",
       "[5 rows x 351 columns]"
      ]
     },
     "execution_count": 3,
     "metadata": {},
     "output_type": "execute_result"
    }
   ],
   "source": [
    "#reading the data into a dataframe and printing its shape and head\n",
    "df = pd.read_csv(\"C:/Users/HP/Downloads/scfp2019excel/SCFP2019.csv\")\n",
    "print(\"df shape:\", df.shape)\n",
    "df.head()"
   ]
  },
  {
   "cell_type": "code",
   "execution_count": 4,
   "id": "f8549a17",
   "metadata": {},
   "outputs": [
    {
     "data": {
      "text/plain": [
       "'The major concern for this analysis are for households that have been turned down or feared being turned down for credit'"
      ]
     },
     "execution_count": 4,
     "metadata": {},
     "output_type": "execute_result"
    }
   ],
   "source": [
    "\"\"\"The major concern for this analysis are for households that have been turned down or feared being turned down for credit\"\"\""
   ]
  },
  {
   "cell_type": "code",
   "execution_count": 5,
   "id": "2e64f895",
   "metadata": {},
   "outputs": [],
   "source": [
    "#creating a mask for houselholds that have been turned down or fear to be turned down\n",
    "mask = df[\"TURNFEAR\"]==1"
   ]
  },
  {
   "cell_type": "code",
   "execution_count": 6,
   "id": "0603af8a",
   "metadata": {},
   "outputs": [
    {
     "name": "stdout",
     "output_type": "stream",
     "text": [
      "df_fear shape: (4623, 351)\n"
     ]
    },
    {
     "data": {
      "text/html": [
       "<div>\n",
       "<style scoped>\n",
       "    .dataframe tbody tr th:only-of-type {\n",
       "        vertical-align: middle;\n",
       "    }\n",
       "\n",
       "    .dataframe tbody tr th {\n",
       "        vertical-align: top;\n",
       "    }\n",
       "\n",
       "    .dataframe thead th {\n",
       "        text-align: right;\n",
       "    }\n",
       "</style>\n",
       "<table border=\"1\" class=\"dataframe\">\n",
       "  <thead>\n",
       "    <tr style=\"text-align: right;\">\n",
       "      <th></th>\n",
       "      <th>YY1</th>\n",
       "      <th>Y1</th>\n",
       "      <th>WGT</th>\n",
       "      <th>HHSEX</th>\n",
       "      <th>AGE</th>\n",
       "      <th>AGECL</th>\n",
       "      <th>EDUC</th>\n",
       "      <th>EDCL</th>\n",
       "      <th>MARRIED</th>\n",
       "      <th>KIDS</th>\n",
       "      <th>...</th>\n",
       "      <th>NWCAT</th>\n",
       "      <th>INCCAT</th>\n",
       "      <th>ASSETCAT</th>\n",
       "      <th>NINCCAT</th>\n",
       "      <th>NINC2CAT</th>\n",
       "      <th>NWPCTLECAT</th>\n",
       "      <th>INCPCTLECAT</th>\n",
       "      <th>NINCPCTLECAT</th>\n",
       "      <th>INCQRTCAT</th>\n",
       "      <th>NINCQRTCAT</th>\n",
       "    </tr>\n",
       "  </thead>\n",
       "  <tbody>\n",
       "    <tr>\n",
       "      <th>5</th>\n",
       "      <td>2</td>\n",
       "      <td>21</td>\n",
       "      <td>3790.476607</td>\n",
       "      <td>1</td>\n",
       "      <td>50</td>\n",
       "      <td>3</td>\n",
       "      <td>8</td>\n",
       "      <td>2</td>\n",
       "      <td>1</td>\n",
       "      <td>3</td>\n",
       "      <td>...</td>\n",
       "      <td>1</td>\n",
       "      <td>2</td>\n",
       "      <td>1</td>\n",
       "      <td>2</td>\n",
       "      <td>1</td>\n",
       "      <td>1</td>\n",
       "      <td>4</td>\n",
       "      <td>4</td>\n",
       "      <td>2</td>\n",
       "      <td>2</td>\n",
       "    </tr>\n",
       "    <tr>\n",
       "      <th>6</th>\n",
       "      <td>2</td>\n",
       "      <td>22</td>\n",
       "      <td>3798.868505</td>\n",
       "      <td>1</td>\n",
       "      <td>50</td>\n",
       "      <td>3</td>\n",
       "      <td>8</td>\n",
       "      <td>2</td>\n",
       "      <td>1</td>\n",
       "      <td>3</td>\n",
       "      <td>...</td>\n",
       "      <td>1</td>\n",
       "      <td>2</td>\n",
       "      <td>1</td>\n",
       "      <td>2</td>\n",
       "      <td>1</td>\n",
       "      <td>1</td>\n",
       "      <td>4</td>\n",
       "      <td>3</td>\n",
       "      <td>2</td>\n",
       "      <td>2</td>\n",
       "    </tr>\n",
       "    <tr>\n",
       "      <th>7</th>\n",
       "      <td>2</td>\n",
       "      <td>23</td>\n",
       "      <td>3799.468393</td>\n",
       "      <td>1</td>\n",
       "      <td>50</td>\n",
       "      <td>3</td>\n",
       "      <td>8</td>\n",
       "      <td>2</td>\n",
       "      <td>1</td>\n",
       "      <td>3</td>\n",
       "      <td>...</td>\n",
       "      <td>1</td>\n",
       "      <td>2</td>\n",
       "      <td>1</td>\n",
       "      <td>2</td>\n",
       "      <td>1</td>\n",
       "      <td>1</td>\n",
       "      <td>4</td>\n",
       "      <td>4</td>\n",
       "      <td>2</td>\n",
       "      <td>2</td>\n",
       "    </tr>\n",
       "    <tr>\n",
       "      <th>8</th>\n",
       "      <td>2</td>\n",
       "      <td>24</td>\n",
       "      <td>3788.076005</td>\n",
       "      <td>1</td>\n",
       "      <td>50</td>\n",
       "      <td>3</td>\n",
       "      <td>8</td>\n",
       "      <td>2</td>\n",
       "      <td>1</td>\n",
       "      <td>3</td>\n",
       "      <td>...</td>\n",
       "      <td>1</td>\n",
       "      <td>2</td>\n",
       "      <td>1</td>\n",
       "      <td>2</td>\n",
       "      <td>1</td>\n",
       "      <td>1</td>\n",
       "      <td>4</td>\n",
       "      <td>4</td>\n",
       "      <td>2</td>\n",
       "      <td>2</td>\n",
       "    </tr>\n",
       "    <tr>\n",
       "      <th>9</th>\n",
       "      <td>2</td>\n",
       "      <td>25</td>\n",
       "      <td>3793.066589</td>\n",
       "      <td>1</td>\n",
       "      <td>50</td>\n",
       "      <td>3</td>\n",
       "      <td>8</td>\n",
       "      <td>2</td>\n",
       "      <td>1</td>\n",
       "      <td>3</td>\n",
       "      <td>...</td>\n",
       "      <td>1</td>\n",
       "      <td>2</td>\n",
       "      <td>1</td>\n",
       "      <td>2</td>\n",
       "      <td>1</td>\n",
       "      <td>1</td>\n",
       "      <td>4</td>\n",
       "      <td>4</td>\n",
       "      <td>2</td>\n",
       "      <td>2</td>\n",
       "    </tr>\n",
       "  </tbody>\n",
       "</table>\n",
       "<p>5 rows × 351 columns</p>\n",
       "</div>"
      ],
      "text/plain": [
       "   YY1  Y1          WGT  HHSEX  AGE  AGECL  EDUC  EDCL  MARRIED  KIDS  ...  \\\n",
       "5    2  21  3790.476607      1   50      3     8     2        1     3  ...   \n",
       "6    2  22  3798.868505      1   50      3     8     2        1     3  ...   \n",
       "7    2  23  3799.468393      1   50      3     8     2        1     3  ...   \n",
       "8    2  24  3788.076005      1   50      3     8     2        1     3  ...   \n",
       "9    2  25  3793.066589      1   50      3     8     2        1     3  ...   \n",
       "\n",
       "   NWCAT  INCCAT  ASSETCAT  NINCCAT  NINC2CAT  NWPCTLECAT  INCPCTLECAT  \\\n",
       "5      1       2         1        2         1           1            4   \n",
       "6      1       2         1        2         1           1            4   \n",
       "7      1       2         1        2         1           1            4   \n",
       "8      1       2         1        2         1           1            4   \n",
       "9      1       2         1        2         1           1            4   \n",
       "\n",
       "   NINCPCTLECAT  INCQRTCAT  NINCQRTCAT  \n",
       "5             4          2           2  \n",
       "6             3          2           2  \n",
       "7             4          2           2  \n",
       "8             4          2           2  \n",
       "9             4          2           2  \n",
       "\n",
       "[5 rows x 351 columns]"
      ]
     },
     "execution_count": 6,
     "metadata": {},
     "output_type": "execute_result"
    }
   ],
   "source": [
    "#using the mask to filter the credit fearful repondents from the entire data\n",
    "df_fear = df[mask]\n",
    "print(\"df_fear shape:\", df_fear.shape)\n",
    "df_fear.head()"
   ]
  },
  {
   "cell_type": "code",
   "execution_count": 7,
   "id": "ce554845",
   "metadata": {},
   "outputs": [
    {
     "data": {
      "text/plain": [
       "'Exploratory Analysis'"
      ]
     },
     "execution_count": 7,
     "metadata": {},
     "output_type": "execute_result"
    }
   ],
   "source": [
    "\"\"\"Exploratory Analysis\"\"\""
   ]
  },
  {
   "cell_type": "code",
   "execution_count": 8,
   "id": "a511dd37",
   "metadata": {},
   "outputs": [
    {
     "data": {
      "text/plain": [
       "'Taking a look at the various age groups that are credit fearful, from the code of survey, the agecl columns shows the various age categories'"
      ]
     },
     "execution_count": 8,
     "metadata": {},
     "output_type": "execute_result"
    }
   ],
   "source": [
    "\"\"\"Taking a look at the various age groups that are credit fearful, from the code of survey, the agecl columns shows the various age categories\"\"\""
   ]
  },
  {
   "cell_type": "code",
   "execution_count": 9,
   "id": "b8a9964d",
   "metadata": {},
   "outputs": [
    {
     "name": "stdout",
     "output_type": "stream",
     "text": [
      "Age Groups: [3 5 1 2 4 6]\n"
     ]
    }
   ],
   "source": [
    "#displaying the unique age classifications\n",
    "age_groups = df_fear[\"AGECL\"].unique()\n",
    "print(\"Age Groups:\", age_groups)"
   ]
  },
  {
   "cell_type": "code",
   "execution_count": 10,
   "id": "beb4063a",
   "metadata": {},
   "outputs": [
    {
     "data": {
      "text/plain": [
       "5      45-54\n",
       "6      45-54\n",
       "7      45-54\n",
       "8      45-54\n",
       "9      45-54\n",
       "110    65-74\n",
       "111    65-74\n",
       "112    65-74\n",
       "113    65-74\n",
       "114    65-74\n",
       "Name: AGECL, dtype: object"
      ]
     },
     "execution_count": 10,
     "metadata": {},
     "output_type": "execute_result"
    }
   ],
   "source": [
    "#Create a Series agecl that contains the observations from \"AGECL\" using the true group age range\n",
    "agecl_dict = {\n",
    "    1: \"Under 35\",\n",
    "    2: \"35-44\",\n",
    "    3: \"45-54\",\n",
    "    4: \"55-64\",\n",
    "    5: \"65-74\",\n",
    "    6: \"75 or Older\",\n",
    "}\n",
    "\n",
    "age_cl = df_fear[\"AGECL\"].replace(agecl_dict)\n",
    "#checking the head of the series\n",
    "age_cl.head(10)"
   ]
  },
  {
   "cell_type": "code",
   "execution_count": 11,
   "id": "448f03b3",
   "metadata": {},
   "outputs": [
    {
     "data": {
      "image/png": "[encoded data removed]",
      "text/plain": [
       "<Figure size 432x288 with 1 Axes>"
      ]
     },
     "metadata": {
      "needs_background": "light"
     },
     "output_type": "display_data"
    }
   ],
   "source": [
    "#creating a bar chart showing the credit fearful age groups\n",
    "age_cl_value_counts = age_cl.value_counts()\n",
    "\n",
    "# Bar plot of `age_cl_value_counts`\n",
    "age_cl_value_counts.plot(kind=\"bar\", xlabel=\"Age Group\", ylabel=\"Frequency (count)\", title=\"Credit Fearful: Age Groups\");"
   ]
  },
  {
   "cell_type": "code",
   "execution_count": 12,
   "id": "6a9be5e4",
   "metadata": {},
   "outputs": [
    {
     "data": {
      "image/png": "[encoded data removed]",
      "text/plain": [
       "<Figure size 432x288 with 1 Axes>"
      ]
     },
     "metadata": {
      "needs_background": "light"
     },
     "output_type": "display_data"
    }
   ],
   "source": [
    "# Plot histogram of \"AGE\"\n",
    "df_fear[\"AGE\"].hist(bins=10)\n",
    "plt.xlabel(\"Age\")\n",
    "plt.ylabel(\"Frequency(count)\")\n",
    "plt.title(\"Credit Fearful: Age Distribution\");"
   ]
  },
  {
   "cell_type": "code",
   "execution_count": 13,
   "id": "5316b114",
   "metadata": {},
   "outputs": [
    {
     "data": {
      "text/plain": [
       "\"from the code book we can see that there are four 'RACE' categories; 1= White Non Hispanic, 2= Black/ African American, 3= Hispanic, 5= Other\""
      ]
     },
     "execution_count": 13,
     "metadata": {},
     "output_type": "execute_result"
    }
   ],
   "source": [
    "\"\"\"from the code book we can see that there are four 'RACE' categories; 1= White Non Hispanic, 2= Black/ African American, 3= Hispanic, 5= Other\"\"\""
   ]
  },
  {
   "cell_type": "code",
   "execution_count": 14,
   "id": "9526b7bc",
   "metadata": {},
   "outputs": [],
   "source": [
    "#Create a Series 'race' that contains the observations from \"RACE\" using the true group names\n",
    "race_dict = {\n",
    "    1: \"White/Non-Hispanic\",\n",
    "    2: \"Black/African-American\",\n",
    "    3: \"Hispanic\",\n",
    "    5: \"Other\",\n",
    "}\n",
    "race = df_fear[\"RACE\"].replace(race_dict)"
   ]
  },
  {
   "cell_type": "code",
   "execution_count": 15,
   "id": "76f89da7",
   "metadata": {},
   "outputs": [
    {
     "data": {
      "image/png": "[encoded data removed]",
      "text/plain": [
       "<Figure size 432x288 with 1 Axes>"
      ]
     },
     "metadata": {
      "needs_background": "light"
     },
     "output_type": "display_data"
    }
   ],
   "source": [
    "#Creating a horizontal bar plot for the Race, in percentage\n",
    "race_value_counts= race.value_counts(normalize=True)\n",
    "# Create bar chart of race_value_counts\n",
    "race_value_counts.plot(kind=\"barh\")\n",
    "plt.xlim((0, 1))\n",
    "plt.xlabel(\"Frequency (%)\")\n",
    "plt.ylabel(\"Race\")\n",
    "plt.title(\"Credit Fearful: Racial Groups\");"
   ]
  },
  {
   "cell_type": "code",
   "execution_count": 16,
   "id": "3fade914",
   "metadata": {},
   "outputs": [
    {
     "data": {
      "image/png": "[encoded data removed]",
      "text/plain": [
       "<Figure size 432x288 with 1 Axes>"
      ]
     },
     "metadata": {
      "needs_background": "light"
     },
     "output_type": "display_data"
    }
   ],
   "source": [
    "#Recreating the horizontal bar chart for 'RACE' in the entire dataset\n",
    "race = df[\"RACE\"].replace(race_dict)\n",
    "race_value_counts = race.value_counts(normalize=True)\n",
    "# Create bar chart of race_value_counts\n",
    "race_value_counts.plot(kind=\"barh\")\n",
    "plt.xlim((0, 1))\n",
    "plt.xlabel(\"Frequency (%)\")\n",
    "plt.ylabel(\"Race\")\n",
    "plt.title(\"SCF Respondents: Racial Groups\");"
   ]
  },
  {
   "cell_type": "code",
   "execution_count": 17,
   "id": "7481a1e3",
   "metadata": {},
   "outputs": [
    {
     "data": {
      "text/plain": [
       "'Are people with lower incomes concerned about being denied credit, or is that something people with more money worry about? In order to answer that question, I need to again compare the entire dataset with our subgroup(credit fearful) using the \"INCCAT\" feature, which captures income percentile groups'"
      ]
     },
     "execution_count": 17,
     "metadata": {},
     "output_type": "execute_result"
    }
   ],
   "source": [
    "\"\"\"Are people with lower incomes concerned about being denied credit, or is that something people with more money worry about? In order to answer that question, I need to again compare the entire dataset with our subgroup(credit fearful) using the \"INCCAT\" feature, which captures income percentile groups\"\"\""
   ]
  },
  {
   "cell_type": "code",
   "execution_count": 18,
   "id": "bf9ae31e",
   "metadata": {},
   "outputs": [
    {
     "data": {
      "text/html": [
       "<div>\n",
       "<style scoped>\n",
       "    .dataframe tbody tr th:only-of-type {\n",
       "        vertical-align: middle;\n",
       "    }\n",
       "\n",
       "    .dataframe tbody tr th {\n",
       "        vertical-align: top;\n",
       "    }\n",
       "\n",
       "    .dataframe thead th {\n",
       "        text-align: right;\n",
       "    }\n",
       "</style>\n",
       "<table border=\"1\" class=\"dataframe\">\n",
       "  <thead>\n",
       "    <tr style=\"text-align: right;\">\n",
       "      <th></th>\n",
       "      <th>TURNFEAR</th>\n",
       "      <th>INCCAT</th>\n",
       "      <th>Frequency</th>\n",
       "    </tr>\n",
       "  </thead>\n",
       "  <tbody>\n",
       "    <tr>\n",
       "      <th>0</th>\n",
       "      <td>0</td>\n",
       "      <td>90-100</td>\n",
       "      <td>0.297296</td>\n",
       "    </tr>\n",
       "    <tr>\n",
       "      <th>1</th>\n",
       "      <td>0</td>\n",
       "      <td>60-79.9</td>\n",
       "      <td>0.174841</td>\n",
       "    </tr>\n",
       "    <tr>\n",
       "      <th>2</th>\n",
       "      <td>0</td>\n",
       "      <td>40-59.9</td>\n",
       "      <td>0.143146</td>\n",
       "    </tr>\n",
       "    <tr>\n",
       "      <th>3</th>\n",
       "      <td>0</td>\n",
       "      <td>0-20</td>\n",
       "      <td>0.140343</td>\n",
       "    </tr>\n",
       "    <tr>\n",
       "      <th>4</th>\n",
       "      <td>0</td>\n",
       "      <td>21-39.9</td>\n",
       "      <td>0.135933</td>\n",
       "    </tr>\n",
       "    <tr>\n",
       "      <th>5</th>\n",
       "      <td>0</td>\n",
       "      <td>80-89.9</td>\n",
       "      <td>0.108441</td>\n",
       "    </tr>\n",
       "    <tr>\n",
       "      <th>6</th>\n",
       "      <td>1</td>\n",
       "      <td>0-20</td>\n",
       "      <td>0.288125</td>\n",
       "    </tr>\n",
       "    <tr>\n",
       "      <th>7</th>\n",
       "      <td>1</td>\n",
       "      <td>21-39.9</td>\n",
       "      <td>0.256327</td>\n",
       "    </tr>\n",
       "    <tr>\n",
       "      <th>8</th>\n",
       "      <td>1</td>\n",
       "      <td>40-59.9</td>\n",
       "      <td>0.228856</td>\n",
       "    </tr>\n",
       "    <tr>\n",
       "      <th>9</th>\n",
       "      <td>1</td>\n",
       "      <td>60-79.9</td>\n",
       "      <td>0.132598</td>\n",
       "    </tr>\n",
       "    <tr>\n",
       "      <th>10</th>\n",
       "      <td>1</td>\n",
       "      <td>90-100</td>\n",
       "      <td>0.048886</td>\n",
       "    </tr>\n",
       "    <tr>\n",
       "      <th>11</th>\n",
       "      <td>1</td>\n",
       "      <td>80-89.9</td>\n",
       "      <td>0.045209</td>\n",
       "    </tr>\n",
       "  </tbody>\n",
       "</table>\n",
       "</div>"
      ],
      "text/plain": [
       "    TURNFEAR   INCCAT  Frequency\n",
       "0          0   90-100   0.297296\n",
       "1          0  60-79.9   0.174841\n",
       "2          0  40-59.9   0.143146\n",
       "3          0     0-20   0.140343\n",
       "4          0  21-39.9   0.135933\n",
       "5          0  80-89.9   0.108441\n",
       "6          1     0-20   0.288125\n",
       "7          1  21-39.9   0.256327\n",
       "8          1  40-59.9   0.228856\n",
       "9          1  60-79.9   0.132598\n",
       "10         1   90-100   0.048886\n",
       "11         1  80-89.9   0.045209"
      ]
     },
     "execution_count": 18,
     "metadata": {},
     "output_type": "execute_result"
    }
   ],
   "source": [
    "#Create a DataFrame df_inccat that shows the normalized frequency for income categories for both the credit fearful and non-credit fearful households in the dataset\n",
    "inccat_dict = {\n",
    "    1: \"0-20\",\n",
    "    2: \"21-39.9\",\n",
    "    3: \"40-59.9\",\n",
    "    4: \"60-79.9\",\n",
    "    5: \"80-89.9\",\n",
    "    6: \"90-100\",\n",
    "}\n",
    "\n",
    "df_inccat = (df[\"INCCAT\"].replace(inccat_dict).groupby(df[\"TURNFEAR\"]).value_counts(normalize=True).rename(\"Frequency\").to_frame().reset_index())\n",
    "\n",
    "df_inccat"
   ]
  },
  {
   "cell_type": "code",
   "execution_count": 19,
   "id": "66dadef6",
   "metadata": {},
   "outputs": [
    {
     "data": {
      "image/png": "[encoded data removed]",
      "text/plain": [
       "<Figure size 432x288 with 1 Axes>"
      ]
     },
     "metadata": {
      "needs_background": "light"
     },
     "output_type": "display_data"
    }
   ],
   "source": [
    "# Creating a side by side bar chart of `df_inccat`\n",
    "sns.barplot(x=\"INCCAT\", y= \"Frequency\", hue= \"TURNFEAR\", data= df_inccat, order= inccat_dict.values())\n",
    "plt.xlabel(\"Income Category\")\n",
    "plt.ylabel(\"Frequency (%)\")\n",
    "plt.title(\"Income Distribution: Credit Fearful vs. Non-fearful\");"
   ]
  },
  {
   "cell_type": "code",
   "execution_count": 20,
   "id": "f3a3a532",
   "metadata": {},
   "outputs": [
    {
     "name": "stdout",
     "output_type": "stream",
     "text": [
      "SCF: Asset Houses Correlation: 0.5198273544779252\n"
     ]
    }
   ],
   "source": [
    "#Calculating the correlation coefficient for \"ASSET\" and \"HOUSES\" in the whole dataset df\n",
    "asset_house_corr = df[\"ASSET\"].corr(df[\"HOUSES\"])\n",
    "print(\"SCF: Asset Houses Correlation:\", asset_house_corr)"
   ]
  },
  {
   "cell_type": "code",
   "execution_count": 21,
   "id": "f96c31a5",
   "metadata": {},
   "outputs": [
    {
     "name": "stdout",
     "output_type": "stream",
     "text": [
      "Credit Fearful: Asset Houses Correlation: 0.5832879735979152\n"
     ]
    }
   ],
   "source": [
    "#Calculating the correlation coefficient for \"ASSET\" and \"HOUSES\" in the whole credit-fearful subset df_fear.\n",
    "asset_house_corr = df_fear[\"ASSET\"].corr(df_fear[\"HOUSES\"])\n",
    "print(\"Credit Fearful: Asset Houses Correlation:\", asset_house_corr)"
   ]
  },
  {
   "cell_type": "code",
   "execution_count": 22,
   "id": "c04f87a2",
   "metadata": {},
   "outputs": [
    {
     "data": {
      "text/html": [
       "<style type=\"text/css\">\n",
       "#T_8ab4e_row0_col0, #T_8ab4e_row1_col1, #T_8ab4e_row2_col2, #T_8ab4e_row3_col3, #T_8ab4e_row4_col4 {\n",
       "  background-color: #023858;\n",
       "  color: #f1f1f1;\n",
       "}\n",
       "#T_8ab4e_row0_col1, #T_8ab4e_row1_col0 {\n",
       "  background-color: #76aad0;\n",
       "  color: #f1f1f1;\n",
       "}\n",
       "#T_8ab4e_row0_col2, #T_8ab4e_row2_col0 {\n",
       "  background-color: #4295c3;\n",
       "  color: #f1f1f1;\n",
       "}\n",
       "#T_8ab4e_row0_col3, #T_8ab4e_row3_col0 {\n",
       "  background-color: #d7d6e9;\n",
       "  color: #000000;\n",
       "}\n",
       "#T_8ab4e_row0_col4, #T_8ab4e_row2_col3, #T_8ab4e_row3_col2, #T_8ab4e_row4_col0 {\n",
       "  background-color: #f5eff6;\n",
       "  color: #000000;\n",
       "}\n",
       "#T_8ab4e_row1_col2, #T_8ab4e_row2_col1 {\n",
       "  background-color: #dad9ea;\n",
       "  color: #000000;\n",
       "}\n",
       "#T_8ab4e_row1_col3, #T_8ab4e_row3_col1 {\n",
       "  background-color: #d6d6e9;\n",
       "  color: #000000;\n",
       "}\n",
       "#T_8ab4e_row1_col4, #T_8ab4e_row4_col1 {\n",
       "  background-color: #ede7f2;\n",
       "  color: #000000;\n",
       "}\n",
       "#T_8ab4e_row2_col4, #T_8ab4e_row4_col2 {\n",
       "  background-color: #fdf5fa;\n",
       "  color: #000000;\n",
       "}\n",
       "#T_8ab4e_row3_col4, #T_8ab4e_row4_col3 {\n",
       "  background-color: #fff7fb;\n",
       "  color: #000000;\n",
       "}\n",
       "</style>\n",
       "<table id=\"T_8ab4e\">\n",
       "  <thead>\n",
       "    <tr>\n",
       "      <th class=\"blank level0\" >&nbsp;</th>\n",
       "      <th id=\"T_8ab4e_level0_col0\" class=\"col_heading level0 col0\" >ASSET</th>\n",
       "      <th id=\"T_8ab4e_level0_col1\" class=\"col_heading level0 col1\" >HOUSES</th>\n",
       "      <th id=\"T_8ab4e_level0_col2\" class=\"col_heading level0 col2\" >INCOME</th>\n",
       "      <th id=\"T_8ab4e_level0_col3\" class=\"col_heading level0 col3\" >DEBT</th>\n",
       "      <th id=\"T_8ab4e_level0_col4\" class=\"col_heading level0 col4\" >EDUC</th>\n",
       "    </tr>\n",
       "  </thead>\n",
       "  <tbody>\n",
       "    <tr>\n",
       "      <th id=\"T_8ab4e_level0_row0\" class=\"row_heading level0 row0\" >ASSET</th>\n",
       "      <td id=\"T_8ab4e_row0_col0\" class=\"data row0 col0\" >1.000000</td>\n",
       "      <td id=\"T_8ab4e_row0_col1\" class=\"data row0 col1\" >0.519827</td>\n",
       "      <td id=\"T_8ab4e_row0_col2\" class=\"data row0 col2\" >0.622429</td>\n",
       "      <td id=\"T_8ab4e_row0_col3\" class=\"data row0 col3\" >0.261250</td>\n",
       "      <td id=\"T_8ab4e_row0_col4\" class=\"data row0 col4\" >0.116673</td>\n",
       "    </tr>\n",
       "    <tr>\n",
       "      <th id=\"T_8ab4e_level0_row1\" class=\"row_heading level0 row1\" >HOUSES</th>\n",
       "      <td id=\"T_8ab4e_row1_col0\" class=\"data row1 col0\" >0.519827</td>\n",
       "      <td id=\"T_8ab4e_row1_col1\" class=\"data row1 col1\" >1.000000</td>\n",
       "      <td id=\"T_8ab4e_row1_col2\" class=\"data row1 col2\" >0.247852</td>\n",
       "      <td id=\"T_8ab4e_row1_col3\" class=\"data row1 col3\" >0.266661</td>\n",
       "      <td id=\"T_8ab4e_row1_col4\" class=\"data row1 col4\" >0.169300</td>\n",
       "    </tr>\n",
       "    <tr>\n",
       "      <th id=\"T_8ab4e_level0_row2\" class=\"row_heading level0 row2\" >INCOME</th>\n",
       "      <td id=\"T_8ab4e_row2_col0\" class=\"data row2 col0\" >0.622429</td>\n",
       "      <td id=\"T_8ab4e_row2_col1\" class=\"data row2 col1\" >0.247852</td>\n",
       "      <td id=\"T_8ab4e_row2_col2\" class=\"data row2 col2\" >1.000000</td>\n",
       "      <td id=\"T_8ab4e_row2_col3\" class=\"data row2 col3\" >0.114646</td>\n",
       "      <td id=\"T_8ab4e_row2_col4\" class=\"data row2 col4\" >0.069400</td>\n",
       "    </tr>\n",
       "    <tr>\n",
       "      <th id=\"T_8ab4e_level0_row3\" class=\"row_heading level0 row3\" >DEBT</th>\n",
       "      <td id=\"T_8ab4e_row3_col0\" class=\"data row3 col0\" >0.261250</td>\n",
       "      <td id=\"T_8ab4e_row3_col1\" class=\"data row3 col1\" >0.266661</td>\n",
       "      <td id=\"T_8ab4e_row3_col2\" class=\"data row3 col2\" >0.114646</td>\n",
       "      <td id=\"T_8ab4e_row3_col3\" class=\"data row3 col3\" >1.000000</td>\n",
       "      <td id=\"T_8ab4e_row3_col4\" class=\"data row3 col4\" >0.054179</td>\n",
       "    </tr>\n",
       "    <tr>\n",
       "      <th id=\"T_8ab4e_level0_row4\" class=\"row_heading level0 row4\" >EDUC</th>\n",
       "      <td id=\"T_8ab4e_row4_col0\" class=\"data row4 col0\" >0.116673</td>\n",
       "      <td id=\"T_8ab4e_row4_col1\" class=\"data row4 col1\" >0.169300</td>\n",
       "      <td id=\"T_8ab4e_row4_col2\" class=\"data row4 col2\" >0.069400</td>\n",
       "      <td id=\"T_8ab4e_row4_col3\" class=\"data row4 col3\" >0.054179</td>\n",
       "      <td id=\"T_8ab4e_row4_col4\" class=\"data row4 col4\" >1.000000</td>\n",
       "    </tr>\n",
       "  </tbody>\n",
       "</table>\n"
      ],
      "text/plain": [
       "<pandas.io.formats.style.Styler at 0x1e0411ef490>"
      ]
     },
     "execution_count": 22,
     "metadata": {},
     "output_type": "execute_result"
    }
   ],
   "source": [
    "#Making a correlation matrix using the entire dataset, considering only the columns \"ASSET\", \"HOUSES\", \"INCOME\", \"DEBT\", and \"EDUC\"\n",
    "cols = [\"ASSET\", \"HOUSES\", \"INCOME\", \"DEBT\", \"EDUC\"]\n",
    "corr = df[cols].corr()\n",
    "corr.style.background_gradient(axis=None)"
   ]
  },
  {
   "cell_type": "code",
   "execution_count": 23,
   "id": "f1d802ae",
   "metadata": {},
   "outputs": [
    {
     "data": {
      "text/html": [
       "<style type=\"text/css\">\n",
       "#T_04570_row0_col0, #T_04570_row1_col1, #T_04570_row2_col2, #T_04570_row3_col3, #T_04570_row4_col4 {\n",
       "  background-color: #023858;\n",
       "  color: #f1f1f1;\n",
       "}\n",
       "#T_04570_row0_col1, #T_04570_row1_col0 {\n",
       "  background-color: #65a3cb;\n",
       "  color: #f1f1f1;\n",
       "}\n",
       "#T_04570_row0_col2, #T_04570_row2_col0 {\n",
       "  background-color: #1e80b8;\n",
       "  color: #f1f1f1;\n",
       "}\n",
       "#T_04570_row0_col3, #T_04570_row3_col0 {\n",
       "  background-color: #99b8d8;\n",
       "  color: #000000;\n",
       "}\n",
       "#T_04570_row0_col4, #T_04570_row4_col0 {\n",
       "  background-color: #fff7fb;\n",
       "  color: #000000;\n",
       "}\n",
       "#T_04570_row1_col2, #T_04570_row2_col1 {\n",
       "  background-color: #e2dfee;\n",
       "  color: #000000;\n",
       "}\n",
       "#T_04570_row1_col3, #T_04570_row3_col1 {\n",
       "  background-color: #034369;\n",
       "  color: #f1f1f1;\n",
       "}\n",
       "#T_04570_row1_col4, #T_04570_row4_col1 {\n",
       "  background-color: #f7f0f7;\n",
       "  color: #000000;\n",
       "}\n",
       "#T_04570_row2_col3, #T_04570_row3_col2 {\n",
       "  background-color: #f5eff6;\n",
       "  color: #000000;\n",
       "}\n",
       "#T_04570_row2_col4, #T_04570_row4_col2 {\n",
       "  background-color: #fcf4fa;\n",
       "  color: #000000;\n",
       "}\n",
       "#T_04570_row3_col4, #T_04570_row4_col3 {\n",
       "  background-color: #f4eef6;\n",
       "  color: #000000;\n",
       "}\n",
       "</style>\n",
       "<table id=\"T_04570\">\n",
       "  <thead>\n",
       "    <tr>\n",
       "      <th class=\"blank level0\" >&nbsp;</th>\n",
       "      <th id=\"T_04570_level0_col0\" class=\"col_heading level0 col0\" >ASSET</th>\n",
       "      <th id=\"T_04570_level0_col1\" class=\"col_heading level0 col1\" >HOUSES</th>\n",
       "      <th id=\"T_04570_level0_col2\" class=\"col_heading level0 col2\" >INCOME</th>\n",
       "      <th id=\"T_04570_level0_col3\" class=\"col_heading level0 col3\" >DEBT</th>\n",
       "      <th id=\"T_04570_level0_col4\" class=\"col_heading level0 col4\" >EDUC</th>\n",
       "    </tr>\n",
       "  </thead>\n",
       "  <tbody>\n",
       "    <tr>\n",
       "      <th id=\"T_04570_level0_row0\" class=\"row_heading level0 row0\" >ASSET</th>\n",
       "      <td id=\"T_04570_row0_col0\" class=\"data row0 col0\" >1.000000</td>\n",
       "      <td id=\"T_04570_row0_col1\" class=\"data row0 col1\" >0.583288</td>\n",
       "      <td id=\"T_04570_row0_col2\" class=\"data row0 col2\" >0.722074</td>\n",
       "      <td id=\"T_04570_row0_col3\" class=\"data row0 col3\" >0.474658</td>\n",
       "      <td id=\"T_04570_row0_col4\" class=\"data row0 col4\" >0.113536</td>\n",
       "    </tr>\n",
       "    <tr>\n",
       "      <th id=\"T_04570_level0_row1\" class=\"row_heading level0 row1\" >HOUSES</th>\n",
       "      <td id=\"T_04570_row1_col0\" class=\"data row1 col0\" >0.583288</td>\n",
       "      <td id=\"T_04570_row1_col1\" class=\"data row1 col1\" >1.000000</td>\n",
       "      <td id=\"T_04570_row1_col2\" class=\"data row1 col2\" >0.264099</td>\n",
       "      <td id=\"T_04570_row1_col3\" class=\"data row1 col3\" >0.962629</td>\n",
       "      <td id=\"T_04570_row1_col4\" class=\"data row1 col4\" >0.160348</td>\n",
       "    </tr>\n",
       "    <tr>\n",
       "      <th id=\"T_04570_level0_row2\" class=\"row_heading level0 row2\" >INCOME</th>\n",
       "      <td id=\"T_04570_row2_col0\" class=\"data row2 col0\" >0.722074</td>\n",
       "      <td id=\"T_04570_row2_col1\" class=\"data row2 col1\" >0.264099</td>\n",
       "      <td id=\"T_04570_row2_col2\" class=\"data row2 col2\" >1.000000</td>\n",
       "      <td id=\"T_04570_row2_col3\" class=\"data row2 col3\" >0.172393</td>\n",
       "      <td id=\"T_04570_row2_col4\" class=\"data row2 col4\" >0.133170</td>\n",
       "    </tr>\n",
       "    <tr>\n",
       "      <th id=\"T_04570_level0_row3\" class=\"row_heading level0 row3\" >DEBT</th>\n",
       "      <td id=\"T_04570_row3_col0\" class=\"data row3 col0\" >0.474658</td>\n",
       "      <td id=\"T_04570_row3_col1\" class=\"data row3 col1\" >0.962629</td>\n",
       "      <td id=\"T_04570_row3_col2\" class=\"data row3 col2\" >0.172393</td>\n",
       "      <td id=\"T_04570_row3_col3\" class=\"data row3 col3\" >1.000000</td>\n",
       "      <td id=\"T_04570_row3_col4\" class=\"data row3 col4\" >0.177386</td>\n",
       "    </tr>\n",
       "    <tr>\n",
       "      <th id=\"T_04570_level0_row4\" class=\"row_heading level0 row4\" >EDUC</th>\n",
       "      <td id=\"T_04570_row4_col0\" class=\"data row4 col0\" >0.113536</td>\n",
       "      <td id=\"T_04570_row4_col1\" class=\"data row4 col1\" >0.160348</td>\n",
       "      <td id=\"T_04570_row4_col2\" class=\"data row4 col2\" >0.133170</td>\n",
       "      <td id=\"T_04570_row4_col3\" class=\"data row4 col3\" >0.177386</td>\n",
       "      <td id=\"T_04570_row4_col4\" class=\"data row4 col4\" >1.000000</td>\n",
       "    </tr>\n",
       "  </tbody>\n",
       "</table>\n"
      ],
      "text/plain": [
       "<pandas.io.formats.style.Styler at 0x1e0411efdc0>"
      ]
     },
     "execution_count": 23,
     "metadata": {},
     "output_type": "execute_result"
    }
   ],
   "source": [
    "#Making a correlation matrix using credit fearful households dataset\n",
    "corr = df_fear[cols].corr()\n",
    "corr.style.background_gradient(axis=None)"
   ]
  },
  {
   "cell_type": "code",
   "execution_count": 24,
   "id": "686543b6",
   "metadata": {},
   "outputs": [
    {
     "data": {
      "text/plain": [
       "' This suggests that the main source of debt being carried by our \"TURNFEAR\" is their Houses.'"
      ]
     },
     "execution_count": 24,
     "metadata": {},
     "output_type": "execute_result"
    }
   ],
   "source": [
    "\"\"\" This suggests that the main source of debt being carried by our \"TURNFEAR\" is their Houses.\"\"\""
   ]
  },
  {
   "cell_type": "code",
   "execution_count": 25,
   "id": "c31399ac",
   "metadata": {},
   "outputs": [
    {
     "data": {
      "text/html": [
       "<div>\n",
       "<style scoped>\n",
       "    .dataframe tbody tr th:only-of-type {\n",
       "        vertical-align: middle;\n",
       "    }\n",
       "\n",
       "    .dataframe tbody tr th {\n",
       "        vertical-align: top;\n",
       "    }\n",
       "\n",
       "    .dataframe thead th {\n",
       "        text-align: right;\n",
       "    }\n",
       "</style>\n",
       "<table border=\"1\" class=\"dataframe\">\n",
       "  <thead>\n",
       "    <tr style=\"text-align: right;\">\n",
       "      <th></th>\n",
       "      <th>TURNFEAR</th>\n",
       "      <th>EDUC</th>\n",
       "      <th>Frequency</th>\n",
       "    </tr>\n",
       "  </thead>\n",
       "  <tbody>\n",
       "    <tr>\n",
       "      <th>0</th>\n",
       "      <td>0</td>\n",
       "      <td>12</td>\n",
       "      <td>0.257481</td>\n",
       "    </tr>\n",
       "    <tr>\n",
       "      <th>1</th>\n",
       "      <td>0</td>\n",
       "      <td>8</td>\n",
       "      <td>0.192029</td>\n",
       "    </tr>\n",
       "    <tr>\n",
       "      <th>2</th>\n",
       "      <td>0</td>\n",
       "      <td>13</td>\n",
       "      <td>0.149823</td>\n",
       "    </tr>\n",
       "    <tr>\n",
       "      <th>3</th>\n",
       "      <td>0</td>\n",
       "      <td>9</td>\n",
       "      <td>0.129833</td>\n",
       "    </tr>\n",
       "    <tr>\n",
       "      <th>4</th>\n",
       "      <td>0</td>\n",
       "      <td>14</td>\n",
       "      <td>0.096117</td>\n",
       "    </tr>\n",
       "  </tbody>\n",
       "</table>\n",
       "</div>"
      ],
      "text/plain": [
       "   TURNFEAR  EDUC  Frequency\n",
       "0         0    12   0.257481\n",
       "1         0     8   0.192029\n",
       "2         0    13   0.149823\n",
       "3         0     9   0.129833\n",
       "4         0    14   0.096117"
      ]
     },
     "execution_count": 25,
     "metadata": {},
     "output_type": "execute_result"
    }
   ],
   "source": [
    "#Creating a DataFrame df_educ that shows the normalized frequency for education categories for both the credit fearful and non-credit fearful households in the dataset\n",
    "df_educ = (df[\"EDUC\"].groupby(df[\"TURNFEAR\"]).value_counts(normalize=True).rename(\"Frequency\").to_frame().reset_index())\n",
    "df_educ.head()"
   ]
  },
  {
   "cell_type": "code",
   "execution_count": 26,
   "id": "77fbea7d",
   "metadata": {},
   "outputs": [
    {
     "data": {
      "image/png": "[encoded data removed]",
      "text/plain": [
       "<Figure size 432x288 with 1 Axes>"
      ]
     },
     "metadata": {
      "needs_background": "light"
     },
     "output_type": "display_data"
    }
   ],
   "source": [
    "# Creating side by side bar chart of `df_educ`\n",
    "sns.barplot(x=\"EDUC\", y= \"Frequency\", hue= \"TURNFEAR\", data= df_educ)\n",
    "plt.xlabel(\"Education Level\")\n",
    "plt.ylabel(\"Frequency (%)\")\n",
    "plt.title(\"Educational Attainment: Credit Fearful vs. Non-fearful\");"
   ]
  },
  {
   "cell_type": "code",
   "execution_count": 27,
   "id": "0cdd456c",
   "metadata": {},
   "outputs": [
    {
     "data": {
      "text/plain": [
       "'In this plot, we can observe that a much higher proportion of credit-fearful have only a high school diploma, while university degrees are more common among the non-credit fearful.'"
      ]
     },
     "execution_count": 27,
     "metadata": {},
     "output_type": "execute_result"
    }
   ],
   "source": [
    "\"\"\"In this plot, we can observe that a much higher proportion of credit-fearful have only a high school diploma, while university degrees are more common among the non-credit fearful.\"\"\""
   ]
  },
  {
   "cell_type": "code",
   "execution_count": 28,
   "id": "528194dc",
   "metadata": {},
   "outputs": [
    {
     "data": {
      "image/png": "[encoded data removed]",
      "text/plain": [
       "<Figure size 432x288 with 1 Axes>"
      ]
     },
     "metadata": {
      "needs_background": "light"
     },
     "output_type": "display_data"
    }
   ],
   "source": [
    "# Creating a scatter plot of ASSET vs DEBT, using the entire dataset\n",
    "df.plot.scatter(x=\"DEBT\", y=\"ASSET\");"
   ]
  },
  {
   "cell_type": "code",
   "execution_count": 29,
   "id": "341e5e80",
   "metadata": {},
   "outputs": [
    {
     "data": {
      "image/png": "[encoded data removed]",
      "text/plain": [
       "<Figure size 432x288 with 1 Axes>"
      ]
     },
     "metadata": {
      "needs_background": "light"
     },
     "output_type": "display_data"
    }
   ],
   "source": [
    "# Creating a scatter plot of ASSET vs DEBT, using only the credit fearful households\n",
    "df_fear.plot.scatter(x=\"DEBT\", y=\"ASSET\");\n"
   ]
  },
  {
   "cell_type": "code",
   "execution_count": 30,
   "id": "485d70fd",
   "metadata": {},
   "outputs": [
    {
     "data": {
      "image/png": "[encoded data removed]",
      "text/plain": [
       "<Figure size 432x288 with 1 Axes>"
      ]
     },
     "metadata": {
      "needs_background": "light"
     },
     "output_type": "display_data"
    }
   ],
   "source": [
    "# Create scatter plot of HOUSES vs DEBT, using the entire dataset\n",
    "df.plot.scatter(x=\"DEBT\", y=\"HOUSES\");"
   ]
  },
  {
   "cell_type": "code",
   "execution_count": 31,
   "id": "285f3c9c",
   "metadata": {},
   "outputs": [
    {
     "data": {
      "text/plain": [
       "'CLUSTERING WITH TWO FEATURES'"
      ]
     },
     "execution_count": 31,
     "metadata": {},
     "output_type": "execute_result"
    }
   ],
   "source": [
    "\"\"\"CLUSTERING WITH TWO FEATURES\"\"\""
   ]
  },
  {
   "cell_type": "code",
   "execution_count": 32,
   "id": "72cb0783",
   "metadata": {},
   "outputs": [
    {
     "data": {
      "image/png": "[encoded data removed]",
      "text/plain": [
       "<Figure size 432x288 with 1 Axes>"
      ]
     },
     "metadata": {
      "needs_background": "light"
     },
     "output_type": "display_data"
    }
   ],
   "source": [
    "# Plot \"HOUSES\" vs \"DEBT\" using the credit fearful household dataset\n",
    "sns.scatterplot(x=df_fear[\"DEBT\"]/1e6, y=df_fear[\"HOUSES\"]/1e6 )\n",
    "plt.xlabel(\"Household Debt [$1M]\")\n",
    "plt.ylabel(\"Home Value [$1M]\")\n",
    "plt.title(\"Credit Fearful: Home Value vs. Household Debt\");"
   ]
  },
  {
   "cell_type": "code",
   "execution_count": 33,
   "id": "321e7235",
   "metadata": {},
   "outputs": [
    {
     "name": "stdout",
     "output_type": "stream",
     "text": [
      "(4623, 2)\n"
     ]
    },
    {
     "data": {
      "text/html": [
       "<div>\n",
       "<style scoped>\n",
       "    .dataframe tbody tr th:only-of-type {\n",
       "        vertical-align: middle;\n",
       "    }\n",
       "\n",
       "    .dataframe tbody tr th {\n",
       "        vertical-align: top;\n",
       "    }\n",
       "\n",
       "    .dataframe thead th {\n",
       "        text-align: right;\n",
       "    }\n",
       "</style>\n",
       "<table border=\"1\" class=\"dataframe\">\n",
       "  <thead>\n",
       "    <tr style=\"text-align: right;\">\n",
       "      <th></th>\n",
       "      <th>DEBT</th>\n",
       "      <th>HOUSES</th>\n",
       "    </tr>\n",
       "  </thead>\n",
       "  <tbody>\n",
       "    <tr>\n",
       "      <th>5</th>\n",
       "      <td>12200.0</td>\n",
       "      <td>0.0</td>\n",
       "    </tr>\n",
       "    <tr>\n",
       "      <th>6</th>\n",
       "      <td>12600.0</td>\n",
       "      <td>0.0</td>\n",
       "    </tr>\n",
       "    <tr>\n",
       "      <th>7</th>\n",
       "      <td>15300.0</td>\n",
       "      <td>0.0</td>\n",
       "    </tr>\n",
       "    <tr>\n",
       "      <th>8</th>\n",
       "      <td>14100.0</td>\n",
       "      <td>0.0</td>\n",
       "    </tr>\n",
       "    <tr>\n",
       "      <th>9</th>\n",
       "      <td>15400.0</td>\n",
       "      <td>0.0</td>\n",
       "    </tr>\n",
       "  </tbody>\n",
       "</table>\n",
       "</div>"
      ],
      "text/plain": [
       "      DEBT  HOUSES\n",
       "5  12200.0     0.0\n",
       "6  12600.0     0.0\n",
       "7  15300.0     0.0\n",
       "8  14100.0     0.0\n",
       "9  15400.0     0.0"
      ]
     },
     "execution_count": 33,
     "metadata": {},
     "output_type": "execute_result"
    }
   ],
   "source": [
    "# Create the feature matrix X. It should contain two features only: \"DEBT\" and \"HOUSES\"\n",
    "X = df_fear[[\"DEBT\", \"HOUSES\"]]\n",
    "print(X.shape)\n",
    "X.head()"
   ]
  },
  {
   "cell_type": "code",
   "execution_count": 34,
   "id": "1f141541",
   "metadata": {},
   "outputs": [
    {
     "data": {
      "text/plain": [
       "'Build Model; Build a KMeans model, assign it to the variable name model, and fit it to the training data X'"
      ]
     },
     "execution_count": 34,
     "metadata": {},
     "output_type": "execute_result"
    }
   ],
   "source": [
    "\"\"\"Build Model; Build a KMeans model, assign it to the variable name model, and fit it to the training data X\"\"\"\n"
   ]
  },
  {
   "cell_type": "code",
   "execution_count": 35,
   "id": "a76a5cbd",
   "metadata": {},
   "outputs": [
    {
     "data": {
      "text/plain": [
       "KMeans(n_clusters=3, random_state=42)"
      ]
     },
     "execution_count": 35,
     "metadata": {},
     "output_type": "execute_result"
    }
   ],
   "source": [
    "# Build model\n",
    "model = KMeans(n_clusters=3, random_state=42)\n",
    "# Fit model to data\n",
    "model.fit(X)"
   ]
  },
  {
   "cell_type": "code",
   "execution_count": 36,
   "id": "59bd2183",
   "metadata": {},
   "outputs": [
    {
     "data": {
      "text/plain": [
       "array([0, 0, 0, 0, 0, 0, 0, 0, 0, 0])"
      ]
     },
     "execution_count": 36,
     "metadata": {},
     "output_type": "execute_result"
    }
   ],
   "source": [
    "#Extract the labels that the model created during training and assign them to the variable labels\n",
    "labels = model.labels_\n",
    "labels[:10]"
   ]
  },
  {
   "cell_type": "code",
   "execution_count": 37,
   "id": "6014d86e",
   "metadata": {},
   "outputs": [
    {
     "data": {
      "image/png": "[encoded data removed]",
      "text/plain": [
       "<Figure size 432x288 with 1 Axes>"
      ]
     },
     "metadata": {
      "needs_background": "light"
     },
     "output_type": "display_data"
    }
   ],
   "source": [
    "#Recreate the \"Home Value vs. Household Debt\" scatter plot\n",
    "# Plot \"HOUSES\" vs \"DEBT\" with hue=label\n",
    "sns.scatterplot(x=df_fear[\"DEBT\"]/1e6, y=df_fear[\"HOUSES\"]/1e6, hue= labels, palette=\"deep\")\n",
    "plt.xlabel(\"Household Debt [$1M]\")\n",
    "plt.ylabel(\"Home Value [$1M]\")\n",
    "plt.title(\"Credit Fearful: Home Value vs. Household Debt\");"
   ]
  },
  {
   "cell_type": "code",
   "execution_count": 38,
   "id": "01fd683e",
   "metadata": {},
   "outputs": [
    {
     "data": {
      "text/plain": [
       "array([[   91017.57766674,   116150.29328699],\n",
       "       [18384100.        , 34484000.        ],\n",
       "       [ 5065800.        , 11666666.66666667]])"
      ]
     },
     "execution_count": 38,
     "metadata": {},
     "output_type": "execute_result"
    }
   ],
   "source": [
    "#Extract the centroids that the model created during training, and assign them to the variable centroids\n",
    "centroids = model.cluster_centers_\n",
    "centroids"
   ]
  },
  {
   "cell_type": "code",
   "execution_count": 39,
   "id": "46c67191",
   "metadata": {},
   "outputs": [
    {
     "data": {
      "image/png": "[encoded data removed]",
      "text/plain": [
       "<Figure size 432x288 with 1 Axes>"
      ]
     },
     "metadata": {
      "needs_background": "light"
     },
     "output_type": "display_data"
    }
   ],
   "source": [
    "# Plot \"HOUSES\" vs \"DEBT\", add centroids for the Credit fearful households\n",
    "sns.scatterplot(x=df_fear[\"DEBT\"]/1e6, y=df_fear[\"HOUSES\"]/1e6, hue= labels, palette=\"deep\"),\n",
    "plt.scatter(x=centroids[:,0]/1e6, y=centroids[:,1]/1e6, color= \"black\", marker= \"*\", s=150)\n",
    "plt.xlabel(\"Household Debt [$1M]\")\n",
    "plt.ylabel(\"Home Value [$1M]\")\n",
    "plt.title(\"Credit Fearful: Home Value vs. Household Debt\");"
   ]
  },
  {
   "cell_type": "code",
   "execution_count": 40,
   "id": "ca13f99c",
   "metadata": {},
   "outputs": [
    {
     "name": "stdout",
     "output_type": "stream",
     "text": [
      "Inertia (3 clusters): 939554010797046.9\n"
     ]
    }
   ],
   "source": [
    "#Extract the inertia for the model and assign it to the variable inertia\n",
    "inertia = model.inertia_\n",
    "print(\"Inertia (3 clusters):\", inertia)"
   ]
  },
  {
   "cell_type": "code",
   "execution_count": 41,
   "id": "62bef125",
   "metadata": {},
   "outputs": [
    {
     "name": "stdout",
     "output_type": "stream",
     "text": [
      "Silhouette Score (3 clusters): 0.9768842462944348\n"
     ]
    }
   ],
   "source": [
    "#Calculate the silhouette score for the model and assign it to the variable ss\n",
    "ss = silhouette_score(X, model.labels_)\n",
    "print(\"Silhouette Score (3 clusters):\", ss)"
   ]
  },
  {
   "cell_type": "code",
   "execution_count": 42,
   "id": "65fc0b1e",
   "metadata": {},
   "outputs": [
    {
     "name": "stdout",
     "output_type": "stream",
     "text": [
      "Inertia: [3018038313336920.0, 939554010797046.9, 546098841715654.56, 309310386410920.3, 235243397481789.06, 182225729179699.88, 150670779013795.2, 114321995931020.75, 100340259483917.2, 86229997033602.47, 74757234072100.47]\n",
      "\n",
      "Silhouette Scores: [0.9855099957519555, 0.9768842462944348, 0.9490311483406091, 0.839330043242819, 0.7287406719898627, 0.726989114305748, 0.7263840026889208, 0.7335125606476427, 0.692157992955073, 0.6949309528556856, 0.6951831031001252]\n"
     ]
    }
   ],
   "source": [
    "#Using a for loop to build and train a K-Means model where n_clusters ranges from 2 to 12 (inclusive)\n",
    "n_clusters = range(2,13)\n",
    "inertia_errors = []\n",
    "silhouette_scores = []\n",
    "\n",
    "# Add `for` loop to train model and calculate inertia, silhouette score.\n",
    "for k in n_clusters:\n",
    "    #Build model\n",
    "    model=KMeans(n_clusters=k, random_state=42)\n",
    "    #train model\n",
    "    model.fit(X)\n",
    "    #calculate inertia\n",
    "    inertia_errors.append(model.inertia_)\n",
    "    #calculate ss\n",
    "    silhouette_scores.append(silhouette_score(X, model.labels_))\n",
    "\n",
    "print(\"Inertia:\", inertia_errors)\n",
    "print()\n",
    "print(\"Silhouette Scores:\", silhouette_scores)"
   ]
  },
  {
   "cell_type": "code",
   "execution_count": 43,
   "id": "14765731",
   "metadata": {},
   "outputs": [
    {
     "data": {
      "image/png": "[encoded data removed]",
      "text/plain": [
       "<Figure size 432x288 with 1 Axes>"
      ]
     },
     "metadata": {
      "needs_background": "light"
     },
     "output_type": "display_data"
    }
   ],
   "source": [
    "# Plot `inertia_errors` by `n_clusters`\n",
    "plt.plot(n_clusters, inertia_errors)\n",
    "plt.xlabel(\"Number of Clusters\")\n",
    "plt.ylabel(\"Inertia\")\n",
    "plt.title(\"K-Means Model: Inertia vs Number of Clusters\");"
   ]
  },
  {
   "cell_type": "code",
   "execution_count": 44,
   "id": "b2804e00",
   "metadata": {},
   "outputs": [
    {
     "data": {
      "image/png": "[encoded data removed]",
      "text/plain": [
       "<Figure size 432x288 with 1 Axes>"
      ]
     },
     "metadata": {
      "needs_background": "light"
     },
     "output_type": "display_data"
    }
   ],
   "source": [
    "# Plot `silhouette_scores` vs `n_clusters`\n",
    "plt.plot(n_clusters, silhouette_scores)\n",
    "plt.xlabel(\"Number of Clusters\")\n",
    "plt.ylabel(\"Silhouette Score\")\n",
    "plt.title(\"K-Means Model: Silhouette Score vs Number of Clusters\");"
   ]
  },
  {
   "cell_type": "code",
   "execution_count": 45,
   "id": "86c79cb4",
   "metadata": {},
   "outputs": [
    {
     "data": {
      "text/plain": [
       "KMeans(n_clusters=4, random_state=42)"
      ]
     },
     "execution_count": 45,
     "metadata": {},
     "output_type": "execute_result"
    }
   ],
   "source": [
    "# Build model\n",
    "final_model = KMeans(n_clusters=4, random_state=42)\n",
    "# Fit model to data\n",
    "final_model.fit(X)"
   ]
  },
  {
   "cell_type": "code",
   "execution_count": 46,
   "id": "493b1d49",
   "metadata": {},
   "outputs": [
    {
     "data": {
      "image/png": "[encoded data removed]",
      "text/plain": [
       "<Figure size 432x288 with 1 Axes>"
      ]
     },
     "metadata": {
      "needs_background": "light"
     },
     "output_type": "display_data"
    }
   ],
   "source": [
    "# Plot \"HOUSES\" vs \"DEBT\" with final_model labels\n",
    "sns.scatterplot(x=df_fear[\"DEBT\"]/1e6, y=df_fear[\"HOUSES\"]/1e6, hue= final_model.labels_, palette=\"deep\")\n",
    "plt.xlabel(\"Household Debt [$1M]\")\n",
    "plt.ylabel(\"Home Value [$1M]\")\n",
    "plt.title(\"Credit Fearful: Home Value vs. Household Debt\");\n"
   ]
  },
  {
   "cell_type": "code",
   "execution_count": 47,
   "id": "108aa97e",
   "metadata": {},
   "outputs": [
    {
     "data": {
      "text/html": [
       "<div>\n",
       "<style scoped>\n",
       "    .dataframe tbody tr th:only-of-type {\n",
       "        vertical-align: middle;\n",
       "    }\n",
       "\n",
       "    .dataframe tbody tr th {\n",
       "        vertical-align: top;\n",
       "    }\n",
       "\n",
       "    .dataframe thead th {\n",
       "        text-align: right;\n",
       "    }\n",
       "</style>\n",
       "<table border=\"1\" class=\"dataframe\">\n",
       "  <thead>\n",
       "    <tr style=\"text-align: right;\">\n",
       "      <th></th>\n",
       "      <th>DEBT</th>\n",
       "      <th>HOUSES</th>\n",
       "    </tr>\n",
       "  </thead>\n",
       "  <tbody>\n",
       "    <tr>\n",
       "      <th>0</th>\n",
       "      <td>8.488629e+04</td>\n",
       "      <td>1.031872e+05</td>\n",
       "    </tr>\n",
       "    <tr>\n",
       "      <th>1</th>\n",
       "      <td>1.838410e+07</td>\n",
       "      <td>3.448400e+07</td>\n",
       "    </tr>\n",
       "    <tr>\n",
       "      <th>2</th>\n",
       "      <td>5.472800e+06</td>\n",
       "      <td>1.407400e+07</td>\n",
       "    </tr>\n",
       "    <tr>\n",
       "      <th>3</th>\n",
       "      <td>2.420929e+06</td>\n",
       "      <td>4.551429e+06</td>\n",
       "    </tr>\n",
       "  </tbody>\n",
       "</table>\n",
       "</div>"
      ],
      "text/plain": [
       "           DEBT        HOUSES\n",
       "0  8.488629e+04  1.031872e+05\n",
       "1  1.838410e+07  3.448400e+07\n",
       "2  5.472800e+06  1.407400e+07\n",
       "3  2.420929e+06  4.551429e+06"
      ]
     },
     "execution_count": 47,
     "metadata": {},
     "output_type": "execute_result"
    }
   ],
   "source": [
    "# Create a DataFrame xgb that contains the mean \"DEBT\" and \"HOUSES\" values for each of the clusters for the final_model\n",
    "xgb = X.groupby(final_model.labels_).mean()\n",
    "xgb"
   ]
  },
  {
   "cell_type": "code",
   "execution_count": 48,
   "id": "c15d94eb",
   "metadata": {},
   "outputs": [
    {
     "data": {
      "image/png": "[encoded data removed]",
      "text/plain": [
       "<Figure size 432x288 with 1 Axes>"
      ]
     },
     "metadata": {
      "needs_background": "light"
     },
     "output_type": "display_data"
    }
   ],
   "source": [
    "# Create side-by-side bar chart of `xgb`\n",
    "(xgb/1e6).plot(kind=\"bar\")\n",
    "plt.xlabel(\"Cluster\")\n",
    "plt.ylabel(\"Value [$1 million]\")\n",
    "plt.title(\"Mean Home Value & Household Debt by Cluster\");"
   ]
  },
  {
   "cell_type": "code",
   "execution_count": null,
   "id": "9899ef76",
   "metadata": {},
   "outputs": [],
   "source": []
  }
 ],
 "metadata": {
  "kernelspec": {
   "display_name": "Python 3 (ipykernel)",
   "language": "python",
   "name": "python3"
  },
  "language_info": {
   "codemirror_mode": {
    "name": "ipython",
    "version": 3
   },
   "file_extension": ".py",
   "mimetype": "text/x-python",
   "name": "python",
   "nbconvert_exporter": "python",
   "pygments_lexer": "ipython3",
   "version": "3.9.12"
  }
 },
 "nbformat": 4,
 "nbformat_minor": 5
}
